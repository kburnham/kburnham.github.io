{
 "metadata": {
  "name": "",
  "signature": "sha256:adb581cbbe6600962095bf4e211100bcf3540b441a2b54c6c4fc252137ca6747"
 },
 "nbformat": 3,
 "nbformat_minor": 0,
 "worksheets": [
  {
   "cells": [
    {
     "cell_type": "code",
     "collapsed": false,
     "input": [
      "#I want to make the religion column of the Pew data set\n"
     ],
     "language": "python",
     "metadata": {},
     "outputs": []
    },
    {
     "cell_type": "code",
     "collapsed": false,
     "input": [
      "#libraries\n",
      "import csv\n",
      "import collections\n",
      "from pprint import pprint\n",
      "import pandas as pd"
     ],
     "language": "python",
     "metadata": {},
     "outputs": [],
     "prompt_number": 42
    },
    {
     "cell_type": "code",
     "collapsed": false,
     "input": [
      "#import data as list of dictionaries\n",
      "Pewdata = []\n",
      "with open(\"muslim.attitudes.to.USA.China.csv\") as infile:\n",
      "    reader = csv.DictReader(infile)\n",
      "    for row in reader:\n",
      "        Pewdata.append(row)\n",
      "    \n",
      "    "
     ],
     "language": "python",
     "metadata": {},
     "outputs": [],
     "prompt_number": 43
    },
    {
     "cell_type": "code",
     "collapsed": false,
     "input": [
      "\n",
      "columns = ['q47','q127b','q127c','q120','psraid', 'q25', 'q9a', 'q9c', 'q11a', 'q11b', 'country', 'q59','q119', 'q174','q175']"
     ],
     "language": "python",
     "metadata": {},
     "outputs": [],
     "prompt_number": 44
    },
    {
     "cell_type": "code",
     "collapsed": false,
     "input": [
      "#get rid of the columns that I am not interested in\n",
      "data = []\n",
      "for row in Pewdata:\n",
      "    #remove data from USA and China\n",
      "    if row['country'] == \"United States\" or row['country'] == \"China\":\n",
      "        continue\n",
      "    new_row = {}\n",
      "    for question in row:\n",
      "        if question[0:3] == \"q55\":\n",
      "            new_row[question] = row[question]\n",
      "    for variable in columns:\n",
      "        new_row[variable] = row[variable]\n",
      "    data.append(new_row)\n",
      "        \n",
      "    "
     ],
     "language": "python",
     "metadata": {},
     "outputs": [],
     "prompt_number": 45
    },
    {
     "cell_type": "code",
     "collapsed": false,
     "input": [
      "#make a dictionary matching country names to appropriate q55 suffix\\\n",
      "#for most countries the suffix is the first three letters of the country in lowercase\n",
      "countries = {}\n",
      "for row in data:\n",
      "    if row['country'] not in countries:\n",
      "        countries[row['country']] = row['country'][:3].lower()"
     ],
     "language": "python",
     "metadata": {},
     "outputs": [],
     "prompt_number": 46
    },
    {
     "cell_type": "code",
     "collapsed": false,
     "input": [
      "#hardcode the exceptions\n",
      "exceptions = {'Chile' : 'chl', 'El Salvador' : 'esa', 'Indonesia' : 'indo', 'Malaysia' : 'mala', 'South Africa' : 'rsa',\n",
      "              'South Korea' : 'skor', 'Australia' : 'ausb'}\n",
      "\n",
      "for exception in exceptions:\n",
      "    countries[exception] = exceptions[exception]"
     ],
     "language": "python",
     "metadata": {},
     "outputs": [],
     "prompt_number": 47
    },
    {
     "cell_type": "code",
     "collapsed": false,
     "input": [
      "#iterate through the rows of data again, for each row create 'q55 + suffix', then add the value of that to a\n",
      "#religion entry\n",
      "for row in data:\n",
      "    question = \"q55\" + countries[row['country']]\n",
      "    \n",
      "    if question in row:\n",
      "        row['religion'] = row[question]\n",
      "    "
     ],
     "language": "python",
     "metadata": {},
     "outputs": [],
     "prompt_number": 48
    },
    {
     "cell_type": "code",
     "collapsed": false,
     "input": [
      "#Need to shrink this down to a more basic list\n",
      "\n",
      "religion_dictionary = {'Christianity' : 'Christian', \"Islam\" : \"Muslim\", \"Catholic\" : \"Christian\", 'No specific religious belief/atheist/not religious (Volunteered)' :\n",
      "                       \"None\", \"Orthodox\" : \"Christian\", \"NA\" : \"NA\", \"Christian\" : \"Christian\", 'None' : 'None', \n",
      "                       'Protestant' : 'Christian', 'Buddhism' : 'Buddhist', 'Roman Catholic' : 'Christian', \n",
      "                       'Roman Catholic church' : 'Christian', 'No religion/not a believer/atheist/agnostic (Volunteered)' : 'None',\n",
      "                       'No religion' : 'None', 'Evangelical' : 'Christian', 'No religion/not a believer/Atheist/Agnostic (Volunteered)' :\n",
      "                       'None', 'No, do not belong to a religion' : 'None', 'No believer / atheist / agnostic (Volunteered)': 'None',\n",
      "                       'Secular Jew' : 'Jewish', 'Protestant (mainstream)' : 'Christian', 'Buddhist' : 'Buddhist', \n",
      "                       'Refused' : 'Refused', 'Yes, Catholic (inc. Roman Catholic and Orthodox)' : 'Christian',\n",
      "                       'Evangelical or Protestant' : 'Christian', \n",
      "                       'Yes, Protestant (inc. all denominations - United, Presbyterian, Anglican, Lutheran, Baptist etc...)': 'Christian',\n",
      "                       'Other' : 'Other', \"Don't know\" : 'Dont know', 'Traditional Jew' : 'Jewish', \n",
      "                       'A believer of no religion in particular' : 'None', 'No religion/not a believer/atheist/agnostic' : 'None',\n",
      "                       'Other religion (Volunteered)' : 'Other', 'Other Christian' : 'Christian', 'Hindu' : 'Hindu',\n",
      "                       'No religion (Volunteered)' : 'None', 'Protestant (Evangelical/Pentecostal)' : 'Christian',\n",
      "                       \"Other Christian (Protestant, Anglican, Evangelical, Jehovah's Witness, Pentecostal, Mormon, etc)\" : 'Christian',\n",
      "                       'Catholicism' : 'Christian', 'Druze' : 'Druze', 'Without religion/Atheist': 'None', 'Religious Jew' : 'Jewish',\n",
      "                       'Zionist' : 'Jewish', 'Mormon' : 'Mormon', 'Druse' : 'Druze', 'Islam/Moslem' : 'Muslim', 'None/Atheist' : 'None',\n",
      "                       'Ultra-Orthodox Jew': 'Jewish', \"Jehovah's Witness\": 'Christian', 'Yes, Other': 'Other', 'Jewish': 'Jewish',\n",
      "                       'Protestant church': 'Christian', 'Atheist / not believer': 'None', 'Iglesia ni Cristo': 'Christian',\n",
      "                       'Adventist': 'Christian', 'Born-again Christian': 'Christian', 'Shintoism': 'Shintoism', \n",
      "                       'Aglipayan church': 'Other', 'Other (Volunteered)': 'Other', \"Jehovah's Witnesses\": 'Christian',\n",
      "                       'Spiritism': 'Other', 'Belongs to a religion, but does not want to say which one (Volunteered)': 'Refused',\n",
      "                       'Taoism': 'Taoism', 'Traditional': 'Other', 'Afro-Brasilian (Candombl\\xc3\\xa9 / Umbanda)': 'Other',\n",
      "                       'Traditional native religion (animist, etc.)': 'Other', 'Atheist/No religion (Volunteered)': 'None',\n",
      "                       'Yes, Muslim': 'Muslim', 'Other Christianity profession (Baptist, Methodist, etc.)': 'Christian',\n",
      "                       'Pentecostal': 'Christian', 'African indigenious religion': 'Other', 'Yes, Jewish': 'Jewish',\n",
      "                       'Czech Unity of Brethren': 'Other', 'Presbyterian': 'Christian', 'Atheist': 'None', \n",
      "                       'Yes, Buddhist': 'Buddhist', 'Atheist/Agnostic': 'None', 'Mormon church': 'Mormon', 'Yes, Sikh': 'Sikh', 'Agnostic': 'None',\n",
      "                       'Judaism': 'Jewish', 'Methodist': 'Christian', 'Mormons': 'Mormon', 'Other religion': 'Other', \n",
      "                       'Yes, Hindu': 'Hindu', 'Quanzhen': 'Other', 'Without religion': 'None', 'Muslim' : 'Muslim', 'Sikh' : 'Sikh',\n",
      "                       'Anglican (Church of England)' : 'Christian', 'Lutheran' : 'Christian', 'Other Religion' : 'Other',\n",
      "                       'Baptist' : 'Christian', 'Uniting' : 'Christian'}"
     ],
     "language": "python",
     "metadata": {},
     "outputs": [],
     "prompt_number": 49
    },
    {
     "cell_type": "code",
     "collapsed": false,
     "input": [
      "religion_list = []\n",
      "for row in data:\n",
      "    religion_list.append(row['religion'])"
     ],
     "language": "python",
     "metadata": {},
     "outputs": [],
     "prompt_number": 50
    },
    {
     "cell_type": "code",
     "collapsed": false,
     "input": [
      "count = collections.Counter(religion_list)"
     ],
     "language": "python",
     "metadata": {},
     "outputs": [],
     "prompt_number": 51
    },
    {
     "cell_type": "code",
     "collapsed": false,
     "input": [
      "count"
     ],
     "language": "python",
     "metadata": {},
     "outputs": [
      {
       "metadata": {},
       "output_type": "pyout",
       "prompt_number": 52,
       "text": [
        "Counter({'Islam': 7933, 'Catholic': 7395, 'Christianity': 2090, 'Muslim': 1851, 'Orthodox': 1802, 'Christian': 1473, 'None': 1309, 'Protestant': 1075, 'Roman Catholic': 755, 'Roman Catholic church': 659, 'No religion/not a believer/atheist/agnostic (Volunteered)': 515, 'No religion': 506, 'Buddhism': 486, 'Evangelical': 484, 'NA': 394, 'No religion/not a believer/Atheist/Agnostic (Volunteered)': 357, 'No, do not belong to a religion': 327, 'No believer / atheist / agnostic (Volunteered)': 278, 'Secular Jew': 275, 'Protestant (mainstream)': 253, 'Buddhist': 192, 'Other Christian': 181, 'Refused': 179, 'Yes, Catholic (inc. Roman Catholic and Orthodox)': 161, 'Evangelical or Protestant': 147, 'Yes, Protestant (inc. all denominations - United, Presbyterian, Anglican, Lutheran, Baptist etc...)': 146, 'Other': 144, 'Traditional Jew': 133, 'A believer of no religion in particular': 131, 'No religion/not a believer/atheist/agnostic': 123, 'Other religion (Volunteered)': 119, 'Hindu': 108, \"Don't know\": 92, 'No religion (Volunteered)': 92, 'Protestant (Evangelical/Pentecostal)': 91, \"Other Christian (Protestant, Anglican, Evangelical, Jehovah's Witness, Pentecostal, Mormon, etc)\": 88, 'Catholicism': 84, 'Anglican (Church of England)': 82, 'Druze': 75, 'Without religion/Atheist': 63, 'Religious Jew': 60, 'Zionist': 55, 'Druse': 45, 'Islam/Moslem': 41, 'None/Atheist': 39, \"Jehovah's Witness\": 38, 'Ultra-Orthodox Jew': 34, 'Yes, Other': 28, 'Jewish': 27, 'Mormon': 26, 'Protestant church': 24, 'Atheist / not believer': 23, 'Uniting': 21, 'Iglesia ni Cristo': 20, 'Adventist': 19, 'Born-again Christian': 19, 'Shintoism': 18, 'Aglipayan church': 17, 'Other (Volunteered)': 17, \"Jehovah's Witnesses\": 16, 'Spiritism': 15, 'Presbyterian': 15, 'Belongs to a religion, but does not want to say which one (Volunteered)': 14, 'Other Religion': 14, 'Baptist': 12, 'Pentecostal': 11, 'Traditional': 11, 'Afro-Brasilian (Candombl\\xc3\\xa9 / Umbanda)': 10, 'Traditional native religion (animist, etc.)': 10, 'Atheist/No religion (Volunteered)': 9, 'Lutheran': 7, 'Methodist': 7, 'Yes, Muslim': 7, 'Other Christianity profession (Baptist, Methodist, etc.)': 7, 'African indigenious religion': 5, 'Yes, Jewish': 5, 'Czech Unity of Brethren': 5, 'Atheist': 4, 'Yes, Buddhist': 3, 'Atheist/Agnostic': 3, 'Mormon church': 3, 'Yes, Sikh': 3, 'Agnostic': 3, 'Judaism': 2, 'Mormons': 1, 'Other religion': 1, 'Yes, Hindu': 1, 'Without religion': 1, 'Sikh': 1})"
       ]
      }
     ],
     "prompt_number": 52
    },
    {
     "cell_type": "code",
     "collapsed": false,
     "input": [
      "#use the religion_dictionary created above to simplify the Pew data\n",
      "for row in data:\n",
      "    row['religion'] = religion_dictionary[row['religion']]"
     ],
     "language": "python",
     "metadata": {},
     "outputs": [],
     "prompt_number": 53
    },
    {
     "cell_type": "code",
     "collapsed": false,
     "input": [
      "#now get rid of the q55s - they are no longer relevant\n",
      "for row in data:\n",
      "    for key in row.keys():\n",
      "        if key[:3] == 'q55':\n",
      "            row.pop(key)\n"
     ],
     "language": "python",
     "metadata": {},
     "outputs": [],
     "prompt_number": 54
    },
    {
     "cell_type": "code",
     "collapsed": false,
     "input": [
      "#no make it a pandas dataframe\n",
      "df = pd.DataFrame(data)"
     ],
     "language": "python",
     "metadata": {},
     "outputs": [],
     "prompt_number": 55
    },
    {
     "cell_type": "code",
     "collapsed": false,
     "input": [
      "df['q174'].value_counts()\n",
      "\n",
      "def sunni_shia(response):\n",
      "    if response[0:3] == 'Sun':\n",
      "        return 'Sunni'\n",
      "    elif response[0:3] == 'Shi':\n",
      "        return \"Shi'a\"\n",
      "    return None\n",
      "def devout_muslim(response):\n",
      "    if response == 'NA':\n",
      "        return None\n",
      "    if response == 'Every day five times':\n",
      "        return 1\n",
      "    else:\n",
      "        return 0\n"
     ],
     "language": "python",
     "metadata": {},
     "outputs": [],
     "prompt_number": 70
    },
    {
     "cell_type": "code",
     "collapsed": false,
     "input": [
      "df['Sunni_Shia'] = df['q174'].apply(lambda x : sunni_shia(x))"
     ],
     "language": "python",
     "metadata": {},
     "outputs": [],
     "prompt_number": 57
    },
    {
     "cell_type": "code",
     "collapsed": false,
     "input": [
      "#this category should only have a value if religion == Muslim, \n",
      "\n",
      "df['is_devout'] = df['q175'].apply(lambda x: devout_muslim(x)) "
     ],
     "language": "python",
     "metadata": {},
     "outputs": [],
     "prompt_number": 71
    },
    {
     "cell_type": "code",
     "collapsed": false,
     "input": [
      "#this is no good - for devout muslims there should be a 1, for Muslims who are not devout 0 and for everyone else None\n",
      "df.is_devout.value_counts()"
     ],
     "language": "python",
     "metadata": {},
     "outputs": [
      {
       "metadata": {},
       "output_type": "pyout",
       "prompt_number": 72,
       "text": [
        "1    5682\n",
        "0    3606\n",
        "dtype: int64"
       ]
      }
     ],
     "prompt_number": 72
    },
    {
     "cell_type": "code",
     "collapsed": false,
     "input": [],
     "language": "python",
     "metadata": {},
     "outputs": [],
     "prompt_number": 38
    },
    {
     "cell_type": "code",
     "collapsed": false,
     "input": [
      "df.religion.unique()"
     ],
     "language": "python",
     "metadata": {},
     "outputs": [
      {
       "metadata": {},
       "output_type": "pyout",
       "prompt_number": 73,
       "text": [
        "array(['None', 'Christian', 'Dont know', 'Refused', 'Other', 'Buddhist',\n",
        "       'Jewish', 'Sikh', 'Muslim', 'Mormon', 'NA', 'Hindu', 'Druze',\n",
        "       'Shintoism'], dtype=object)"
       ]
      }
     ],
     "prompt_number": 73
    },
    {
     "cell_type": "code",
     "collapsed": false,
     "input": [
      "df.head()"
     ],
     "language": "python",
     "metadata": {},
     "outputs": [
      {
       "html": [
        "<div style=\"max-height:1000px;max-width:1500px;overflow:auto;\">\n",
        "<table border=\"1\" class=\"dataframe\">\n",
        "  <thead>\n",
        "    <tr style=\"text-align: right;\">\n",
        "      <th></th>\n",
        "      <th>country</th>\n",
        "      <th>psraid</th>\n",
        "      <th>q119</th>\n",
        "      <th>q11a</th>\n",
        "      <th>q11b</th>\n",
        "      <th>q120</th>\n",
        "      <th>q127b</th>\n",
        "      <th>q127c</th>\n",
        "      <th>q174</th>\n",
        "      <th>q175</th>\n",
        "      <th>q25</th>\n",
        "      <th>q47</th>\n",
        "      <th>q59</th>\n",
        "      <th>q9a</th>\n",
        "      <th>q9c</th>\n",
        "      <th>religion</th>\n",
        "      <th>Sunni_Shia</th>\n",
        "      <th>is_devout</th>\n",
        "    </tr>\n",
        "  </thead>\n",
        "  <tbody>\n",
        "    <tr>\n",
        "      <th>0</th>\n",
        "      <td> Czech Republic</td>\n",
        "      <td> 101003</td>\n",
        "      <td>          Neither</td>\n",
        "      <td> Major threat</td>\n",
        "      <td> Minor threat</td>\n",
        "      <td> More of a partner</td>\n",
        "      <td> No \u2013 does not respect personal freedoms</td>\n",
        "      <td>        Yes - respects personal freedoms</td>\n",
        "      <td> NA</td>\n",
        "      <td> NA</td>\n",
        "      <td> NA</td>\n",
        "      <td> Not too much</td>\n",
        "      <td> Not too much</td>\n",
        "      <td> Somewhat favorable</td>\n",
        "      <td> Somewhat unfavorable</td>\n",
        "      <td>      None</td>\n",
        "      <td> None</td>\n",
        "      <td>NaN</td>\n",
        "    </tr>\n",
        "    <tr>\n",
        "      <th>1</th>\n",
        "      <td> Czech Republic</td>\n",
        "      <td> 101004</td>\n",
        "      <td>          Neither</td>\n",
        "      <td> Minor threat</td>\n",
        "      <td> Minor threat</td>\n",
        "      <td> More of a partner</td>\n",
        "      <td> No \u2013 does not respect personal freedoms</td>\n",
        "      <td>        Yes - respects personal freedoms</td>\n",
        "      <td> NA</td>\n",
        "      <td> NA</td>\n",
        "      <td> NA</td>\n",
        "      <td>  Fair amount</td>\n",
        "      <td>   Not at all</td>\n",
        "      <td>         Don't know</td>\n",
        "      <td> Somewhat unfavorable</td>\n",
        "      <td>      None</td>\n",
        "      <td> None</td>\n",
        "      <td>NaN</td>\n",
        "    </tr>\n",
        "    <tr>\n",
        "      <th>2</th>\n",
        "      <td> Czech Republic</td>\n",
        "      <td> 101005</td>\n",
        "      <td>          Neither</td>\n",
        "      <td> Not a threat</td>\n",
        "      <td> Not a threat</td>\n",
        "      <td> More of a partner</td>\n",
        "      <td> No \u2013 does not respect personal freedoms</td>\n",
        "      <td>        Yes - respects personal freedoms</td>\n",
        "      <td> NA</td>\n",
        "      <td> NA</td>\n",
        "      <td> NA</td>\n",
        "      <td>   Great deal</td>\n",
        "      <td> Not too much</td>\n",
        "      <td>     Very favorable</td>\n",
        "      <td>           Don't know</td>\n",
        "      <td>      None</td>\n",
        "      <td> None</td>\n",
        "      <td>NaN</td>\n",
        "    </tr>\n",
        "    <tr>\n",
        "      <th>3</th>\n",
        "      <td> Czech Republic</td>\n",
        "      <td> 101006</td>\n",
        "      <td> More of an enemy</td>\n",
        "      <td> Major threat</td>\n",
        "      <td> Not a threat</td>\n",
        "      <td> More of a partner</td>\n",
        "      <td> No \u2013 does not respect personal freedoms</td>\n",
        "      <td>        Yes - respects personal freedoms</td>\n",
        "      <td> NA</td>\n",
        "      <td> NA</td>\n",
        "      <td> NA</td>\n",
        "      <td> Not too much</td>\n",
        "      <td>   Not at all</td>\n",
        "      <td>     Very favorable</td>\n",
        "      <td>     Very unfavorable</td>\n",
        "      <td> Christian</td>\n",
        "      <td> None</td>\n",
        "      <td>NaN</td>\n",
        "    </tr>\n",
        "    <tr>\n",
        "      <th>4</th>\n",
        "      <td> Czech Republic</td>\n",
        "      <td> 101007</td>\n",
        "      <td>          Neither</td>\n",
        "      <td> Minor threat</td>\n",
        "      <td> Minor threat</td>\n",
        "      <td> More of a partner</td>\n",
        "      <td> No \u2013 does not respect personal freedoms</td>\n",
        "      <td> No \u2013 does not respect personal freedoms</td>\n",
        "      <td> NA</td>\n",
        "      <td> NA</td>\n",
        "      <td> NA</td>\n",
        "      <td> Not too much</td>\n",
        "      <td>   Not at all</td>\n",
        "      <td> Somewhat favorable</td>\n",
        "      <td>           Don't know</td>\n",
        "      <td>      None</td>\n",
        "      <td> None</td>\n",
        "      <td>NaN</td>\n",
        "    </tr>\n",
        "  </tbody>\n",
        "</table>\n",
        "</div>"
       ],
       "metadata": {},
       "output_type": "pyout",
       "prompt_number": 74,
       "text": [
        "          country  psraid              q119          q11a          q11b  \\\n",
        "0  Czech Republic  101003           Neither  Major threat  Minor threat   \n",
        "1  Czech Republic  101004           Neither  Minor threat  Minor threat   \n",
        "2  Czech Republic  101005           Neither  Not a threat  Not a threat   \n",
        "3  Czech Republic  101006  More of an enemy  Major threat  Not a threat   \n",
        "4  Czech Republic  101007           Neither  Minor threat  Minor threat   \n",
        "\n",
        "                q120                                    q127b  \\\n",
        "0  More of a partner  No \u2013 does not respect personal freedoms   \n",
        "1  More of a partner  No \u2013 does not respect personal freedoms   \n",
        "2  More of a partner  No \u2013 does not respect personal freedoms   \n",
        "3  More of a partner  No \u2013 does not respect personal freedoms   \n",
        "4  More of a partner  No \u2013 does not respect personal freedoms   \n",
        "\n",
        "                                     q127c q174 q175 q25           q47  \\\n",
        "0         Yes - respects personal freedoms   NA   NA  NA  Not too much   \n",
        "1         Yes - respects personal freedoms   NA   NA  NA   Fair amount   \n",
        "2         Yes - respects personal freedoms   NA   NA  NA    Great deal   \n",
        "3         Yes - respects personal freedoms   NA   NA  NA  Not too much   \n",
        "4  No \u2013 does not respect personal freedoms   NA   NA  NA  Not too much   \n",
        "\n",
        "            q59                 q9a                   q9c   religion  \\\n",
        "0  Not too much  Somewhat favorable  Somewhat unfavorable       None   \n",
        "1    Not at all          Don't know  Somewhat unfavorable       None   \n",
        "2  Not too much      Very favorable            Don't know       None   \n",
        "3    Not at all      Very favorable      Very unfavorable  Christian   \n",
        "4    Not at all  Somewhat favorable            Don't know       None   \n",
        "\n",
        "  Sunni_Shia  is_devout  \n",
        "0       None        NaN  \n",
        "1       None        NaN  \n",
        "2       None        NaN  \n",
        "3       None        NaN  \n",
        "4       None        NaN  "
       ]
      }
     ],
     "prompt_number": 74
    },
    {
     "cell_type": "code",
     "collapsed": false,
     "input": [
      "df.USA_favorable = 0"
     ],
     "language": "python",
     "metadata": {},
     "outputs": [],
     "prompt_number": 117
    },
    {
     "cell_type": "code",
     "collapsed": false,
     "input": [
      "for response in df.q9a.unique():\n",
      "    print is_favorable(response)"
     ],
     "language": "python",
     "metadata": {},
     "outputs": [
      {
       "output_type": "stream",
       "stream": "stdout",
       "text": [
        "1\n",
        "0\n",
        "1\n",
        "0\n",
        "0\n",
        "0\n"
       ]
      }
     ],
     "prompt_number": 122
    },
    {
     "cell_type": "code",
     "collapsed": false,
     "input": [
      "#write function that returns 1 for a favorable opinion, 0 otherwise\n",
      "def is_favorable(response):\n",
      "    if response == 'Somewhat favorable' or response == 'Very favorable':\n",
      "        return 1\n",
      "    else:\n",
      "        return 0\n",
      "    \n",
      "def is_threat(response):\n",
      "    if response == 'Major threat' or response == 'Minor threat':\n",
      "        return 1\n",
      "    else:\n",
      "        return 0\n",
      "def does_respect(response):\n",
      "    if response == \"Yes - respects personal freedoms\":\n",
      "        return 1\n",
      "    else:\n",
      "        return 0\n",
      "\n",
      "def take_interest(response):\n",
      "    if response == \"Great deal\" or response == 'Fair amount':\n",
      "        return 1\n",
      "    else:\n",
      "        return 0\n",
      "\n",
      "def is_partner(response):\n",
      "    if response == \"More of a partner\":\n",
      "        return 1\n",
      "    else:\n",
      "        return 0\n",
      "\n",
      "def USA_best_model(response):\n",
      "    if response == \"Free market capitalism\":\n",
      "        return 1\n",
      "    else: \n",
      "        return 0\n",
      "    \n",
      "def China_best_model(response):\n",
      "    if response == \"State capitalism\":\n",
      "        return 1\n",
      "    else:\n",
      "        return 0"
     ],
     "language": "python",
     "metadata": {},
     "outputs": [],
     "prompt_number": 75
    },
    {
     "cell_type": "code",
     "collapsed": false,
     "input": [
      "f = lambda x: is_favorable(x)\n",
      "g = lambda x: is_threat(x)\n",
      "h = lambda x: does_respect(x)\n",
      "i = lambda x: take_interest(x)\n",
      "j = lambda x: is_partner(x)\n",
      "\n",
      "l = lambda x: USA_best_model(x)\n",
      "m = lambda x: China_best_model(x)"
     ],
     "language": "python",
     "metadata": {},
     "outputs": [],
     "prompt_number": 76
    },
    {
     "cell_type": "code",
     "collapsed": false,
     "input": [
      "df['USA_favorable'] = df.q9a.apply(f)\n",
      "df['China_favorable'] = df.q9c.apply(f)\n",
      "df['USA_threat'] = df.q11b.apply(g)\n",
      "df['China_threat'] = df.q11a.apply(g)\n",
      "df['USA_respect'] = df.q127c.apply(h)\n",
      "df['China_respect'] = df.q127b.apply(h)\n",
      "df['USA_interest'] = df.q47.apply(i)\n",
      "df['China_interest'] = df.q59.apply(i)\n",
      "df['USA_best'] = df.q25.apply(l)\n",
      "df['China_best'] = df.q25.apply(m)\n",
      "df['USA_partner'] = df.q120.apply(j)\n",
      "df['China_partner'] = df.q119.apply(j)\n",
      "\n"
     ],
     "language": "python",
     "metadata": {},
     "outputs": [],
     "prompt_number": 77
    },
    {
     "cell_type": "code",
     "collapsed": false,
     "input": [
      "#now I can remove the questions since I don't need them anymore\n",
      "#for name in df.columns.values:\n",
      " #   if name[0] == 'q':\n",
      "  \n",
      "    #df = df.drop(name, 1)\n",
      "    "
     ],
     "language": "python",
     "metadata": {},
     "outputs": [],
     "prompt_number": 78
    },
    {
     "cell_type": "code",
     "collapsed": false,
     "input": [
      "df.columns.values"
     ],
     "language": "python",
     "metadata": {},
     "outputs": [
      {
       "metadata": {},
       "output_type": "pyout",
       "prompt_number": 79,
       "text": [
        "array(['country', 'psraid', 'religion', 'Sunni_Shia', 'is_devout',\n",
        "       'USA_favorable', 'China_favorable', 'USA_threat', 'China_threat',\n",
        "       'USA_respect', 'China_respect', 'USA_interest', 'China_interest',\n",
        "       'USA_best', 'China_best', 'USA_partner', 'China_partner'], dtype=object)"
       ]
      }
     ],
     "prompt_number": 79
    },
    {
     "cell_type": "code",
     "collapsed": false,
     "input": [
      "#add Sunni Shia column and is_devout column\n",
      "\n",
      "df.Sunni_Shia.value_counts()"
     ],
     "language": "python",
     "metadata": {},
     "outputs": [
      {
       "metadata": {},
       "output_type": "pyout",
       "prompt_number": 81,
       "text": [
        "Sunni    6526\n",
        "Shi'a     410\n",
        "dtype: int64"
       ]
      }
     ],
     "prompt_number": 81
    },
    {
     "cell_type": "code",
     "collapsed": false,
     "input": [
      "#now I want long data  - use melt?\n"
     ],
     "language": "python",
     "metadata": {},
     "outputs": [
      {
       "metadata": {},
       "output_type": "pyout",
       "prompt_number": 175,
       "text": [
        "(33425, 13)"
       ]
      }
     ],
     "prompt_number": 175
    },
    {
     "cell_type": "code",
     "collapsed": false,
     "input": [
      "df.head()"
     ],
     "language": "python",
     "metadata": {},
     "outputs": [
      {
       "html": [
        "<div style=\"max-height:1000px;max-width:1500px;overflow:auto;\">\n",
        "<table border=\"1\" class=\"dataframe\">\n",
        "  <thead>\n",
        "    <tr style=\"text-align: right;\">\n",
        "      <th></th>\n",
        "      <th>country</th>\n",
        "      <th>psraid</th>\n",
        "      <th>religion</th>\n",
        "      <th>USA_favorable</th>\n",
        "      <th>China_favorable</th>\n",
        "      <th>USA_threat</th>\n",
        "      <th>China_threat</th>\n",
        "      <th>USA_respect</th>\n",
        "      <th>China_respect</th>\n",
        "      <th>USA_interest</th>\n",
        "      <th>China_interest</th>\n",
        "      <th>USA_best</th>\n",
        "      <th>China_best</th>\n",
        "      <th>USA_partner</th>\n",
        "      <th>China_partner</th>\n",
        "    </tr>\n",
        "  </thead>\n",
        "  <tbody>\n",
        "    <tr>\n",
        "      <th>0</th>\n",
        "      <td> Czech Republic</td>\n",
        "      <td> 101003</td>\n",
        "      <td>      None</td>\n",
        "      <td> 1</td>\n",
        "      <td> 0</td>\n",
        "      <td> 1</td>\n",
        "      <td> 1</td>\n",
        "      <td> 1</td>\n",
        "      <td> 0</td>\n",
        "      <td> 0</td>\n",
        "      <td> 0</td>\n",
        "      <td> 0</td>\n",
        "      <td> 0</td>\n",
        "      <td> 1</td>\n",
        "      <td> 0</td>\n",
        "    </tr>\n",
        "    <tr>\n",
        "      <th>1</th>\n",
        "      <td> Czech Republic</td>\n",
        "      <td> 101004</td>\n",
        "      <td>      None</td>\n",
        "      <td> 0</td>\n",
        "      <td> 0</td>\n",
        "      <td> 1</td>\n",
        "      <td> 1</td>\n",
        "      <td> 1</td>\n",
        "      <td> 0</td>\n",
        "      <td> 1</td>\n",
        "      <td> 0</td>\n",
        "      <td> 0</td>\n",
        "      <td> 0</td>\n",
        "      <td> 1</td>\n",
        "      <td> 0</td>\n",
        "    </tr>\n",
        "    <tr>\n",
        "      <th>2</th>\n",
        "      <td> Czech Republic</td>\n",
        "      <td> 101005</td>\n",
        "      <td>      None</td>\n",
        "      <td> 1</td>\n",
        "      <td> 0</td>\n",
        "      <td> 0</td>\n",
        "      <td> 0</td>\n",
        "      <td> 1</td>\n",
        "      <td> 0</td>\n",
        "      <td> 1</td>\n",
        "      <td> 0</td>\n",
        "      <td> 0</td>\n",
        "      <td> 0</td>\n",
        "      <td> 1</td>\n",
        "      <td> 0</td>\n",
        "    </tr>\n",
        "    <tr>\n",
        "      <th>3</th>\n",
        "      <td> Czech Republic</td>\n",
        "      <td> 101006</td>\n",
        "      <td> Christian</td>\n",
        "      <td> 1</td>\n",
        "      <td> 0</td>\n",
        "      <td> 0</td>\n",
        "      <td> 1</td>\n",
        "      <td> 1</td>\n",
        "      <td> 0</td>\n",
        "      <td> 0</td>\n",
        "      <td> 0</td>\n",
        "      <td> 0</td>\n",
        "      <td> 0</td>\n",
        "      <td> 1</td>\n",
        "      <td> 0</td>\n",
        "    </tr>\n",
        "    <tr>\n",
        "      <th>4</th>\n",
        "      <td> Czech Republic</td>\n",
        "      <td> 101007</td>\n",
        "      <td>      None</td>\n",
        "      <td> 1</td>\n",
        "      <td> 0</td>\n",
        "      <td> 1</td>\n",
        "      <td> 1</td>\n",
        "      <td> 0</td>\n",
        "      <td> 0</td>\n",
        "      <td> 0</td>\n",
        "      <td> 0</td>\n",
        "      <td> 0</td>\n",
        "      <td> 0</td>\n",
        "      <td> 1</td>\n",
        "      <td> 0</td>\n",
        "    </tr>\n",
        "  </tbody>\n",
        "</table>\n",
        "</div>"
       ],
       "metadata": {},
       "output_type": "pyout",
       "prompt_number": 275,
       "text": [
        "          country  psraid   religion  USA_favorable  China_favorable  \\\n",
        "0  Czech Republic  101003       None              1                0   \n",
        "1  Czech Republic  101004       None              0                0   \n",
        "2  Czech Republic  101005       None              1                0   \n",
        "3  Czech Republic  101006  Christian              1                0   \n",
        "4  Czech Republic  101007       None              1                0   \n",
        "\n",
        "   USA_threat  China_threat  USA_respect  China_respect  USA_interest  \\\n",
        "0           1             1            1              0             0   \n",
        "1           1             1            1              0             1   \n",
        "2           0             0            1              0             1   \n",
        "3           0             1            1              0             0   \n",
        "4           1             1            0              0             0   \n",
        "\n",
        "   China_interest  USA_best  China_best  USA_partner  China_partner  \n",
        "0               0         0           0            1              0  \n",
        "1               0         0           0            1              0  \n",
        "2               0         0           0            1              0  \n",
        "3               0         0           0            1              0  \n",
        "4               0         0           0            1              0  "
       ]
      }
     ],
     "prompt_number": 275
    },
    {
     "cell_type": "code",
     "collapsed": false,
     "input": [],
     "language": "python",
     "metadata": {},
     "outputs": []
    },
    {
     "cell_type": "code",
     "collapsed": false,
     "input": [
      "long_df = pd.melt(df, id_vars = ['country', 'religion', 'psraid', 'is_devout', 'Sunni_Shia'])"
     ],
     "language": "python",
     "metadata": {},
     "outputs": [],
     "prompt_number": 85
    },
    {
     "cell_type": "code",
     "collapsed": false,
     "input": [
      "long_df.variable.value_counts()"
     ],
     "language": "python",
     "metadata": {},
     "outputs": [
      {
       "metadata": {},
       "output_type": "pyout",
       "prompt_number": 86,
       "text": [
        "USA_respect        33425\n",
        "China_respect      33425\n",
        "China_favorable    33425\n",
        "USA_best           33425\n",
        "USA_threat         33425\n",
        "China_threat       33425\n",
        "China_partner      33425\n",
        "USA_favorable      33425\n",
        "USA_interest       33425\n",
        "China_best         33425\n",
        "USA_partner        33425\n",
        "China_interest     33425\n",
        "dtype: int64"
       ]
      }
     ],
     "prompt_number": 86
    },
    {
     "cell_type": "code",
     "collapsed": false,
     "input": [
      "long_df.head()"
     ],
     "language": "python",
     "metadata": {},
     "outputs": [
      {
       "html": [
        "<div style=\"max-height:1000px;max-width:1500px;overflow:auto;\">\n",
        "<table border=\"1\" class=\"dataframe\">\n",
        "  <thead>\n",
        "    <tr style=\"text-align: right;\">\n",
        "      <th></th>\n",
        "      <th>country</th>\n",
        "      <th>religion</th>\n",
        "      <th>psraid</th>\n",
        "      <th>is_devout</th>\n",
        "      <th>Sunni_Shia</th>\n",
        "      <th>variable</th>\n",
        "      <th>value</th>\n",
        "    </tr>\n",
        "  </thead>\n",
        "  <tbody>\n",
        "    <tr>\n",
        "      <th>0</th>\n",
        "      <td> Czech Republic</td>\n",
        "      <td>      None</td>\n",
        "      <td> 101003</td>\n",
        "      <td>NaN</td>\n",
        "      <td> None</td>\n",
        "      <td> USA_favorable</td>\n",
        "      <td> 1</td>\n",
        "    </tr>\n",
        "    <tr>\n",
        "      <th>1</th>\n",
        "      <td> Czech Republic</td>\n",
        "      <td>      None</td>\n",
        "      <td> 101004</td>\n",
        "      <td>NaN</td>\n",
        "      <td> None</td>\n",
        "      <td> USA_favorable</td>\n",
        "      <td> 0</td>\n",
        "    </tr>\n",
        "    <tr>\n",
        "      <th>2</th>\n",
        "      <td> Czech Republic</td>\n",
        "      <td>      None</td>\n",
        "      <td> 101005</td>\n",
        "      <td>NaN</td>\n",
        "      <td> None</td>\n",
        "      <td> USA_favorable</td>\n",
        "      <td> 1</td>\n",
        "    </tr>\n",
        "    <tr>\n",
        "      <th>3</th>\n",
        "      <td> Czech Republic</td>\n",
        "      <td> Christian</td>\n",
        "      <td> 101006</td>\n",
        "      <td>NaN</td>\n",
        "      <td> None</td>\n",
        "      <td> USA_favorable</td>\n",
        "      <td> 1</td>\n",
        "    </tr>\n",
        "    <tr>\n",
        "      <th>4</th>\n",
        "      <td> Czech Republic</td>\n",
        "      <td>      None</td>\n",
        "      <td> 101007</td>\n",
        "      <td>NaN</td>\n",
        "      <td> None</td>\n",
        "      <td> USA_favorable</td>\n",
        "      <td> 1</td>\n",
        "    </tr>\n",
        "  </tbody>\n",
        "</table>\n",
        "</div>"
       ],
       "metadata": {},
       "output_type": "pyout",
       "prompt_number": 87,
       "text": [
        "          country   religion  psraid  is_devout Sunni_Shia       variable  \\\n",
        "0  Czech Republic       None  101003        NaN       None  USA_favorable   \n",
        "1  Czech Republic       None  101004        NaN       None  USA_favorable   \n",
        "2  Czech Republic       None  101005        NaN       None  USA_favorable   \n",
        "3  Czech Republic  Christian  101006        NaN       None  USA_favorable   \n",
        "4  Czech Republic       None  101007        NaN       None  USA_favorable   \n",
        "\n",
        "   value  \n",
        "0      1  \n",
        "1      0  \n",
        "2      1  \n",
        "3      1  \n",
        "4      1  "
       ]
      }
     ],
     "prompt_number": 87
    },
    {
     "cell_type": "code",
     "collapsed": false,
     "input": [
      "#now I want to add a country column and split the variable column so that the first part of variable becomes the country\n",
      "#and the second part becomes the question\n",
      "def USA_China(x):\n",
      "    if x[0:3] == 'USA':\n",
      "        return 'USA'\n",
      "    else:\n",
      "        return 'China'\n",
      "n = lambda x: USA_China(x)\n",
      "long_df['USA.or.China'] = long_df.variable.apply(n)"
     ],
     "language": "python",
     "metadata": {},
     "outputs": [],
     "prompt_number": 88
    },
    {
     "cell_type": "code",
     "collapsed": false,
     "input": [
      "#now create the question category by taking the 2nd half of variable\n",
      "def question_name(variable):\n",
      "    return variable.split('_')[1]\n",
      "\n",
      "o = lambda x: question_name(x)\n",
      "long_df['Question'] = long_df.variable.apply(o)\n",
      "    "
     ],
     "language": "python",
     "metadata": {},
     "outputs": [],
     "prompt_number": 89
    },
    {
     "cell_type": "code",
     "collapsed": false,
     "input": [
      "long_df.head()"
     ],
     "language": "python",
     "metadata": {},
     "outputs": [
      {
       "html": [
        "<div style=\"max-height:1000px;max-width:1500px;overflow:auto;\">\n",
        "<table border=\"1\" class=\"dataframe\">\n",
        "  <thead>\n",
        "    <tr style=\"text-align: right;\">\n",
        "      <th></th>\n",
        "      <th>country</th>\n",
        "      <th>religion</th>\n",
        "      <th>psraid</th>\n",
        "      <th>is_devout</th>\n",
        "      <th>Sunni_Shia</th>\n",
        "      <th>variable</th>\n",
        "      <th>value</th>\n",
        "      <th>USA.or.China</th>\n",
        "      <th>Question</th>\n",
        "    </tr>\n",
        "  </thead>\n",
        "  <tbody>\n",
        "    <tr>\n",
        "      <th>0</th>\n",
        "      <td> Czech Republic</td>\n",
        "      <td>      None</td>\n",
        "      <td> 101003</td>\n",
        "      <td>NaN</td>\n",
        "      <td> None</td>\n",
        "      <td> USA_favorable</td>\n",
        "      <td> 1</td>\n",
        "      <td> USA</td>\n",
        "      <td> favorable</td>\n",
        "    </tr>\n",
        "    <tr>\n",
        "      <th>1</th>\n",
        "      <td> Czech Republic</td>\n",
        "      <td>      None</td>\n",
        "      <td> 101004</td>\n",
        "      <td>NaN</td>\n",
        "      <td> None</td>\n",
        "      <td> USA_favorable</td>\n",
        "      <td> 0</td>\n",
        "      <td> USA</td>\n",
        "      <td> favorable</td>\n",
        "    </tr>\n",
        "    <tr>\n",
        "      <th>2</th>\n",
        "      <td> Czech Republic</td>\n",
        "      <td>      None</td>\n",
        "      <td> 101005</td>\n",
        "      <td>NaN</td>\n",
        "      <td> None</td>\n",
        "      <td> USA_favorable</td>\n",
        "      <td> 1</td>\n",
        "      <td> USA</td>\n",
        "      <td> favorable</td>\n",
        "    </tr>\n",
        "    <tr>\n",
        "      <th>3</th>\n",
        "      <td> Czech Republic</td>\n",
        "      <td> Christian</td>\n",
        "      <td> 101006</td>\n",
        "      <td>NaN</td>\n",
        "      <td> None</td>\n",
        "      <td> USA_favorable</td>\n",
        "      <td> 1</td>\n",
        "      <td> USA</td>\n",
        "      <td> favorable</td>\n",
        "    </tr>\n",
        "    <tr>\n",
        "      <th>4</th>\n",
        "      <td> Czech Republic</td>\n",
        "      <td>      None</td>\n",
        "      <td> 101007</td>\n",
        "      <td>NaN</td>\n",
        "      <td> None</td>\n",
        "      <td> USA_favorable</td>\n",
        "      <td> 1</td>\n",
        "      <td> USA</td>\n",
        "      <td> favorable</td>\n",
        "    </tr>\n",
        "  </tbody>\n",
        "</table>\n",
        "</div>"
       ],
       "metadata": {},
       "output_type": "pyout",
       "prompt_number": 90,
       "text": [
        "          country   religion  psraid  is_devout Sunni_Shia       variable  \\\n",
        "0  Czech Republic       None  101003        NaN       None  USA_favorable   \n",
        "1  Czech Republic       None  101004        NaN       None  USA_favorable   \n",
        "2  Czech Republic       None  101005        NaN       None  USA_favorable   \n",
        "3  Czech Republic  Christian  101006        NaN       None  USA_favorable   \n",
        "4  Czech Republic       None  101007        NaN       None  USA_favorable   \n",
        "\n",
        "   value USA.or.China   Question  \n",
        "0      1          USA  favorable  \n",
        "1      0          USA  favorable  \n",
        "2      1          USA  favorable  \n",
        "3      1          USA  favorable  \n",
        "4      1          USA  favorable  "
       ]
      }
     ],
     "prompt_number": 90
    },
    {
     "cell_type": "code",
     "collapsed": false,
     "input": [
      "#now I can get rid of the variable category, I should change the value category to Score\n",
      "long_df = long_df.drop('variable', 1)"
     ],
     "language": "python",
     "metadata": {},
     "outputs": [],
     "prompt_number": 91
    },
    {
     "cell_type": "code",
     "collapsed": false,
     "input": [
      "long_df.columns.values\n",
      "long_df.columns = ['country', 'religion', 'psraid', 'is_devout', 'Sunni_Shia', 'Score', 'USA.or.China', 'Question']"
     ],
     "language": "python",
     "metadata": {},
     "outputs": [],
     "prompt_number": 93
    },
    {
     "cell_type": "code",
     "collapsed": false,
     "input": [
      "#now I am ready to take it to my javascript - this time it's different though because I haven't done any grouping\n",
      "#so I need to do that within dimple\n",
      "#I forgot to add a region, let's do that first\n",
      "\n",
      "europe = [\"Spain\", \"Czech Republic\", \"France\", \"Germany\", \"Spain\", \"Russia\", \n",
      "            \"Britain\", \"Greece\", \"Poland\", \"Italy\"]\n",
      "americas = [\"Canada\", \"Argentina\", \"Bolivia\", \"Brazil\", \"Chile\", \"El Salvador\", \n",
      "              \"Mexico\", \"Venezuela\"]\n",
      "africa = [\"Egypt\", \"Senegal\", \"Nigeria\", \"Kenya\", \"Uganda\", \"Jordan\", \"Tunisia\", \n",
      "            \"Ghana\", \"South Africa\", \"Israel\"]\n",
      "asia_pacific = [\"South Korea\", \"Australia\", \"Turkey\", \"Lebanon\", \"Japan\", \"Malaysia\", \n",
      "          \"Indonesia\", \"Philippines\", \"Pakistan\", \"Palestinian territories\"]\n",
      "\n"
     ],
     "language": "python",
     "metadata": {},
     "outputs": [],
     "prompt_number": 94
    },
    {
     "cell_type": "code",
     "collapsed": false,
     "input": [
      "def assign_region(country):\n",
      "    if country in europe:\n",
      "        return \"Europe\"\n",
      "    if country in americas:\n",
      "        return \"Americas\"\n",
      "    if country in africa:\n",
      "        return \"Africa\"\n",
      "    if country in asia_pacific:\n",
      "        return \"Asia/Pacific\""
     ],
     "language": "python",
     "metadata": {},
     "outputs": [],
     "prompt_number": 95
    },
    {
     "cell_type": "code",
     "collapsed": false,
     "input": [
      "p = lambda x: assign_region(x)\n",
      "long_df['region'] = long_df.country.apply(p)"
     ],
     "language": "python",
     "metadata": {},
     "outputs": [],
     "prompt_number": 96
    },
    {
     "cell_type": "code",
     "collapsed": false,
     "input": [
      "long_df.head()"
     ],
     "language": "python",
     "metadata": {},
     "outputs": [
      {
       "html": [
        "<div style=\"max-height:1000px;max-width:1500px;overflow:auto;\">\n",
        "<table border=\"1\" class=\"dataframe\">\n",
        "  <thead>\n",
        "    <tr style=\"text-align: right;\">\n",
        "      <th></th>\n",
        "      <th>country</th>\n",
        "      <th>religion</th>\n",
        "      <th>psraid</th>\n",
        "      <th>is_devout</th>\n",
        "      <th>Sunni_Shia</th>\n",
        "      <th>Score</th>\n",
        "      <th>USA.or.China</th>\n",
        "      <th>Question</th>\n",
        "      <th>region</th>\n",
        "    </tr>\n",
        "  </thead>\n",
        "  <tbody>\n",
        "    <tr>\n",
        "      <th>0</th>\n",
        "      <td> Czech Republic</td>\n",
        "      <td>      None</td>\n",
        "      <td> 101003</td>\n",
        "      <td>NaN</td>\n",
        "      <td> None</td>\n",
        "      <td> 1</td>\n",
        "      <td> USA</td>\n",
        "      <td> favorable</td>\n",
        "      <td> Europe</td>\n",
        "    </tr>\n",
        "    <tr>\n",
        "      <th>1</th>\n",
        "      <td> Czech Republic</td>\n",
        "      <td>      None</td>\n",
        "      <td> 101004</td>\n",
        "      <td>NaN</td>\n",
        "      <td> None</td>\n",
        "      <td> 0</td>\n",
        "      <td> USA</td>\n",
        "      <td> favorable</td>\n",
        "      <td> Europe</td>\n",
        "    </tr>\n",
        "    <tr>\n",
        "      <th>2</th>\n",
        "      <td> Czech Republic</td>\n",
        "      <td>      None</td>\n",
        "      <td> 101005</td>\n",
        "      <td>NaN</td>\n",
        "      <td> None</td>\n",
        "      <td> 1</td>\n",
        "      <td> USA</td>\n",
        "      <td> favorable</td>\n",
        "      <td> Europe</td>\n",
        "    </tr>\n",
        "    <tr>\n",
        "      <th>3</th>\n",
        "      <td> Czech Republic</td>\n",
        "      <td> Christian</td>\n",
        "      <td> 101006</td>\n",
        "      <td>NaN</td>\n",
        "      <td> None</td>\n",
        "      <td> 1</td>\n",
        "      <td> USA</td>\n",
        "      <td> favorable</td>\n",
        "      <td> Europe</td>\n",
        "    </tr>\n",
        "    <tr>\n",
        "      <th>4</th>\n",
        "      <td> Czech Republic</td>\n",
        "      <td>      None</td>\n",
        "      <td> 101007</td>\n",
        "      <td>NaN</td>\n",
        "      <td> None</td>\n",
        "      <td> 1</td>\n",
        "      <td> USA</td>\n",
        "      <td> favorable</td>\n",
        "      <td> Europe</td>\n",
        "    </tr>\n",
        "  </tbody>\n",
        "</table>\n",
        "</div>"
       ],
       "metadata": {},
       "output_type": "pyout",
       "prompt_number": 97,
       "text": [
        "          country   religion  psraid  is_devout Sunni_Shia  Score  \\\n",
        "0  Czech Republic       None  101003        NaN       None      1   \n",
        "1  Czech Republic       None  101004        NaN       None      0   \n",
        "2  Czech Republic       None  101005        NaN       None      1   \n",
        "3  Czech Republic  Christian  101006        NaN       None      1   \n",
        "4  Czech Republic       None  101007        NaN       None      1   \n",
        "\n",
        "  USA.or.China   Question  region  \n",
        "0          USA  favorable  Europe  \n",
        "1          USA  favorable  Europe  \n",
        "2          USA  favorable  Europe  \n",
        "3          USA  favorable  Europe  \n",
        "4          USA  favorable  Europe  "
       ]
      }
     ],
     "prompt_number": 97
    },
    {
     "cell_type": "code",
     "collapsed": false,
     "input": [
      "for column in long_df.columns.values:\n",
      "    print column\n",
      "    print long_df[column].value_counts()"
     ],
     "language": "python",
     "metadata": {},
     "outputs": []
    },
    {
     "cell_type": "code",
     "collapsed": false,
     "input": [
      "#religion should be 'Christian', 'Muslim' and 'Other'\n",
      "long_df.religion.value_counts()"
     ],
     "language": "python",
     "metadata": {},
     "outputs": [
      {
       "metadata": {},
       "output_type": "pyout",
       "prompt_number": 105,
       "text": [
        "Christian    206184\n",
        "Muslim       117984\n",
        "Other         72204\n",
        "dtype: int64"
       ]
      }
     ],
     "prompt_number": 105
    },
    {
     "cell_type": "code",
     "collapsed": false,
     "input": [
      "def make_religion_other(response):\n",
      "    if response == \"Christian\" or response == \"Muslim\":\n",
      "        return response\n",
      "    elif response == 'NA':\n",
      "        return None\n",
      "    else:\n",
      "        return 'Other'"
     ],
     "language": "python",
     "metadata": {},
     "outputs": [],
     "prompt_number": 101
    },
    {
     "cell_type": "code",
     "collapsed": false,
     "input": [
      "long_df['religion'] = long_df['religion'].apply(lambda x: make_religion_other(x))"
     ],
     "language": "python",
     "metadata": {},
     "outputs": [],
     "prompt_number": 104
    },
    {
     "cell_type": "code",
     "collapsed": false,
     "input": [
      "#replace all 'NA' with none\n",
      "long_df = long_df.replace({'NA': None})"
     ],
     "language": "python",
     "metadata": {},
     "outputs": [],
     "prompt_number": 108
    },
    {
     "cell_type": "code",
     "collapsed": false,
     "input": [
      "#export file to .csv"
     ],
     "language": "python",
     "metadata": {},
     "outputs": []
    },
    {
     "cell_type": "code",
     "collapsed": false,
     "input": [
      "long_df.head()"
     ],
     "language": "python",
     "metadata": {},
     "outputs": [
      {
       "html": [
        "<div style=\"max-height:1000px;max-width:1500px;overflow:auto;\">\n",
        "<table border=\"1\" class=\"dataframe\">\n",
        "  <thead>\n",
        "    <tr style=\"text-align: right;\">\n",
        "      <th></th>\n",
        "      <th>country</th>\n",
        "      <th>religion</th>\n",
        "      <th>psraid</th>\n",
        "      <th>is_devout</th>\n",
        "      <th>Sunni_Shia</th>\n",
        "      <th>Score</th>\n",
        "      <th>USA.or.China</th>\n",
        "      <th>Question</th>\n",
        "      <th>region</th>\n",
        "    </tr>\n",
        "  </thead>\n",
        "  <tbody>\n",
        "    <tr>\n",
        "      <th>0</th>\n",
        "      <td> Czech Republic</td>\n",
        "      <td>     Other</td>\n",
        "      <td> 101003</td>\n",
        "      <td>NaN</td>\n",
        "      <td> None</td>\n",
        "      <td> 1</td>\n",
        "      <td> USA</td>\n",
        "      <td> favorable</td>\n",
        "      <td> Europe</td>\n",
        "    </tr>\n",
        "    <tr>\n",
        "      <th>1</th>\n",
        "      <td> Czech Republic</td>\n",
        "      <td>     Other</td>\n",
        "      <td> 101004</td>\n",
        "      <td>NaN</td>\n",
        "      <td> None</td>\n",
        "      <td> 0</td>\n",
        "      <td> USA</td>\n",
        "      <td> favorable</td>\n",
        "      <td> Europe</td>\n",
        "    </tr>\n",
        "    <tr>\n",
        "      <th>2</th>\n",
        "      <td> Czech Republic</td>\n",
        "      <td>     Other</td>\n",
        "      <td> 101005</td>\n",
        "      <td>NaN</td>\n",
        "      <td> None</td>\n",
        "      <td> 1</td>\n",
        "      <td> USA</td>\n",
        "      <td> favorable</td>\n",
        "      <td> Europe</td>\n",
        "    </tr>\n",
        "    <tr>\n",
        "      <th>3</th>\n",
        "      <td> Czech Republic</td>\n",
        "      <td> Christian</td>\n",
        "      <td> 101006</td>\n",
        "      <td>NaN</td>\n",
        "      <td> None</td>\n",
        "      <td> 1</td>\n",
        "      <td> USA</td>\n",
        "      <td> favorable</td>\n",
        "      <td> Europe</td>\n",
        "    </tr>\n",
        "    <tr>\n",
        "      <th>4</th>\n",
        "      <td> Czech Republic</td>\n",
        "      <td>     Other</td>\n",
        "      <td> 101007</td>\n",
        "      <td>NaN</td>\n",
        "      <td> None</td>\n",
        "      <td> 1</td>\n",
        "      <td> USA</td>\n",
        "      <td> favorable</td>\n",
        "      <td> Europe</td>\n",
        "    </tr>\n",
        "  </tbody>\n",
        "</table>\n",
        "</div>"
       ],
       "metadata": {},
       "output_type": "pyout",
       "prompt_number": 109,
       "text": [
        "          country   religion  psraid  is_devout Sunni_Shia  Score  \\\n",
        "0  Czech Republic      Other  101003        NaN       None      1   \n",
        "1  Czech Republic      Other  101004        NaN       None      0   \n",
        "2  Czech Republic      Other  101005        NaN       None      1   \n",
        "3  Czech Republic  Christian  101006        NaN       None      1   \n",
        "4  Czech Republic      Other  101007        NaN       None      1   \n",
        "\n",
        "  USA.or.China   Question  region  \n",
        "0          USA  favorable  Europe  \n",
        "1          USA  favorable  Europe  \n",
        "2          USA  favorable  Europe  \n",
        "3          USA  favorable  Europe  \n",
        "4          USA  favorable  Europe  "
       ]
      }
     ],
     "prompt_number": 109
    },
    {
     "cell_type": "code",
     "collapsed": false,
     "input": [
      "long_df.dtypes"
     ],
     "language": "python",
     "metadata": {},
     "outputs": [
      {
       "metadata": {},
       "output_type": "pyout",
       "prompt_number": 115,
       "text": [
        "country          object\n",
        "religion         object\n",
        "psraid           object\n",
        "is_devout       float64\n",
        "Sunni_Shia       object\n",
        "Score             int64\n",
        "USA.or.China     object\n",
        "Question         object\n",
        "region           object\n",
        "dtype: object"
       ]
      }
     ],
     "prompt_number": 115
    },
    {
     "cell_type": "code",
     "collapsed": false,
     "input": [
      "long_df.shape"
     ],
     "language": "python",
     "metadata": {},
     "outputs": [
      {
       "ename": "TypeError",
       "evalue": "'tuple' object is not callable",
       "output_type": "pyerr",
       "traceback": [
        "\u001b[0;31m---------------------------------------------------------------------------\u001b[0m\n\u001b[0;31mTypeError\u001b[0m                                 Traceback (most recent call last)",
        "\u001b[0;32m<ipython-input-117-12b1d74e2203>\u001b[0m in \u001b[0;36m<module>\u001b[0;34m()\u001b[0m\n\u001b[0;32m----> 1\u001b[0;31m \u001b[0mlong_df\u001b[0m\u001b[0;34m.\u001b[0m\u001b[0mshape\u001b[0m\u001b[0;34m(\u001b[0m\u001b[0;34m)\u001b[0m\u001b[0;34m\u001b[0m\u001b[0m\n\u001b[0m",
        "\u001b[0;31mTypeError\u001b[0m: 'tuple' object is not callable"
       ]
      }
     ],
     "prompt_number": 117
    },
    {
     "cell_type": "code",
     "collapsed": false,
     "input": [],
     "language": "python",
     "metadata": {},
     "outputs": []
    }
   ],
   "metadata": {}
  }
 ]
}